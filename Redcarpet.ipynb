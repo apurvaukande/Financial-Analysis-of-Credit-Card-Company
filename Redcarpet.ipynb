{
  "nbformat": 4,
  "nbformat_minor": 0,
  "metadata": {
    "colab": {
      "name": "Redcarpet.ipynb",
      "provenance": [],
      "collapsed_sections": []
    },
    "kernelspec": {
      "name": "python3",
      "display_name": "Python 3"
    }
  },
  "cells": [
    {
      "cell_type": "markdown",
      "metadata": {
        "id": "zaulQL5JG4tp"
      },
      "source": [
        "# Financial Analysis of Credit Card Company"
      ]
    },
    {
      "cell_type": "markdown",
      "metadata": {
        "id": "JqL9odf5523Q"
      },
      "source": [
        "This is a case study analytical question.\n",
        "\n",
        "You have to submit two things for this interview:\n",
        "\n",
        "1) Document which contains answers to each question in the interview. Please write a DETAILED answer to each question justifying the answer, the assumptions you have made, etc. Try to follow the \"5-Why\" technique to answer each question - https://www.isixsigma.com/tools-templates/5-whys/case-study-using-the-5-whys-to-validate-assumption/\n",
        "\n",
        "2) For all questions, please send your detailed calculations as well. You can send it as a doc file or excel (preferred) or jupyter/R notebook (also preferred).\n",
        "\n",
        "\n",
        "\n",
        "## The Case Study\n",
        "\n",
        "Analyzing an affinity credit card (special card only available to members of a specific group). Think of it like this - the credit card company is like Citibank and the affiliated group is a company like Indian Oil or Barista. The affiliated group has to pay some fees to credit card company (because the credit card company is providing this service to the group)\n",
        "\n",
        "### Facts:\n",
        "\n",
        "1. average card balance is Rs 1000\n",
        "2. each card has an interest rate of 15%\n",
        "3. membership fee is Rs 20 per card\n",
        "4. loss rate is 3% (NOTE: what are the interpretations of this ? state your assumption CLEARLY when solving )\n",
        "5. Rs 25 operating cost per card\n",
        "6. Rs 10 affiliation fee per card (cost to the group organization itself, so that their members get this awesome card program)\n",
        "7. 6.5% cost of funds (that credit card company must pay to the bank where it gets money)\n",
        "8. bill/statement is issued on 1st of every month\n",
        "9. credit-free period = 15 days from the bill/statement issue date.\n",
        "\n",
        "Read more at:\n",
        "\n",
        "//economictimes.indiatimes.com/articleshow/70886651.cms?from=mdr#targetText=General%20formula%20to%20calculate%20interest,x%2012%20month)%2F365.&utm_source=contentofinterest&utm_medium=text&utm_campaign=cppst\n",
        "\n",
        "There are two scenarios and all the following questions must be answered for both scenarios. There might be some terminology that may not be familiar to you. This is expected. We want to see if you can research and find out about them and then answer these questions.\n",
        "\n",
        "For the below, two scenarios provide a monthly calculation of profits/losses\n",
        "\n",
        "### Scenario 1:\n",
        "- The interest rate is simple interest.\n",
        "- Interest is calculated on a daily basis.\n",
        "- The average card balance is the average end of month balance.\n",
        "- All members are more than a year old.\n",
        "\n",
        "### Scenario 2:\n",
        "- The interest rate is compounded quarterly.\n",
        "- Interest is calculated on a monthly basis.\n",
        "- Membership grows at 5% month on month.\n",
        "- Card balance grows at 5% per month for each member.\n",
        "- The average card balance is the average end of month balance.\n",
        "\n",
        "Consider 1000 customers for both the scenario, divide these 1000 customers into following groups(upon your assumption and understanding about the credit lending industry)\n",
        "- customers who pay the bill within the credit-free period\n",
        "- customers paying 30 days after the last due date\n",
        "- customer paying 45 days after the last due date\n",
        "- customer paying 60 days after the last due date(remove these customers for the complete calculation of the next month,basically, you are not supposed to provide further credit services to these customers)\n",
        "\n",
        "\n",
        "### Answer the following for both scenarios.\n",
        "\n",
        "Q1: How much profit % is generated in 1 year?\n",
        "\n",
        "Q2: The 3% loss rate can either mean either 3% of the outstanding balance defaults or 3% of the borrowers default on their entire balance. If the average balance is increased to $2000, what happens to the loss?\n",
        "\n",
        "Q3: Is a borrower with a low balance more or less likely to default then a borrower with a high balance? Why ? explain clearly\n",
        "\n",
        "Q4: The group company has now become unhappy with the credit card provider. it wants to start its own credit card. But for that, it will need to purchase the customers from the current credit card company. If the affilated group offered Rs 20 per account to purchase all the customers from the credit card company, what would there profit be? (assume that we are only talking about 1 year)\n",
        "\n",
        "Q5: What numbers can the financial institution change to convince the affiliated group not to want to purchase, while still not going into a loss? Give a range of what the new numbers are (min and max)\n",
        "\n",
        "Q6: What is the extra cost(if any) company will have to incur if the customer delays the payment of the credit card bill after the due date?\n",
        "\n",
        "Q7: Is it beneficial for the company if the customer pays the credit card bill after the due date? (express your views as a business strategy analyst with a short example)\n",
        "\n",
        "For the below question consider yourself as a credit risk manager.\n",
        "\n",
        "Which information variables you will use to calculate the credit card limit and the risk associated with it for an individual customer? Also, give the reason for your choice. (Example-Bureau score)\n"
      ]
    },
    {
      "cell_type": "markdown",
      "metadata": {
        "id": "I1upe6YYMdxJ"
      },
      "source": [
        "![Fin_analysis.png](data:image/png;base64,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)\n",
        "\n",
        "\n",
        "\n"
      ]
    },
    {
      "cell_type": "markdown",
      "metadata": {
        "id": "83uaoHc5TwK1"
      },
      "source": [
        "## Simple interest"
      ]
    },
    {
      "cell_type": "code",
      "metadata": {
        "id": "MlcgOQY-YaZn",
        "colab": {
          "base_uri": "https://localhost:8080/"
        },
        "outputId": "59e79544-beb4-42e0-bd2a-f10266b958f4"
      },
      "source": [
        "def calculated_interest(rate, total_cust, avg_card_bill, cust0, cust30, cust45, cust60):\r\n",
        "  \r\n",
        "  # We assume that effectively customers borrow such that the interest generated\r\n",
        "  # is equivalent to what we calculate if they had borrowed whole amount on 15th \r\n",
        "  # of the month\r\n",
        "  average_day_of_borrow = 15\r\n",
        "  \r\n",
        "  # The customer is given grace period of 15 days to pay back credit amount taken\r\n",
        "  credit_free_period = 15\r\n",
        "\r\n",
        "  interest0 = 0\r\n",
        "  interest30 = (total_cust*cust30) * (avg_card_bill*rate*(average_day_of_borrow + credit_free_period + 30)/365) *12\r\n",
        "  interest45 = (total_cust*cust45) * (avg_card_bill*rate*(average_day_of_borrow + credit_free_period + 45)/365) *12\r\n",
        "  interest60 = (total_cust*cust60) * (avg_card_bill*rate*(average_day_of_borrow + credit_free_period + 60)/365) *12\r\n",
        "  total_interest = interest0 + interest30 + interest45 + interest60\r\n",
        "  \r\n",
        "  return total_interest\r\n",
        "\r\n",
        "\r\n",
        "#Parameter Initilization\r\n",
        "total_cust = 1000\r\n",
        "\r\n",
        "#Distruibuation of customer\r\n",
        "#No delay = 90%\r\n",
        "#Paid after 30 days = 5%\r\n",
        "#Paid after 45 days = 4%\r\n",
        "#Paid after 60 days = 1%\r\n",
        "cust0  = 90/100\r\n",
        "cust30 =  5/100\r\n",
        "cust45 =  4/100\r\n",
        "cust60 =  1/100\r\n",
        "\r\n",
        "#Input parameters\r\n",
        "avg_card_bill               = 1000     # Average bill at end of month\r\n",
        "mem_fee_per_head_per_month  = 20       # Membership fee paid by customer\r\n",
        "op_fee_per_head             = 25       # Operational costs incurred by bank\r\n",
        "affi_fee_per_head           = 10       # Affiliation fee paid by credit card company\r\n",
        "interest_rate_to_bank       = 6.5/100  # Interest rate levied by bank from credit card co.\r\n",
        "rate                        =  15/100  # Interest rate paid by customer\r\n",
        "loss_rate                   =   3/100  # Loss of principal and interest due to default by customer\r\n",
        "\r\n",
        "\r\n",
        "#Source of earning per year\r\n",
        "interest       = calculated_interest(rate, total_cust, avg_card_bill, cust0, cust30, cust45, cust60)\r\n",
        "membership_fee = mem_fee_per_head_per_month * total_cust *12\r\n",
        "\r\n",
        "#Expenses per year\r\n",
        "affi_fee                   = affi_fee_per_head * total_cust\r\n",
        "total_fund_taken_per_month = total_cust * avg_card_bill\r\n",
        "cost_of_fund               = 12*(total_fund_taken_per_month * interest_rate_to_bank * 1/12) \r\n",
        "# 1/12 factor because credit card company keeps borrowing and paying back \r\n",
        "# each month to the bank, making borrow time 1/12th of year\r\n",
        "\r\n",
        "loss                       = (interest) * loss_rate\r\n",
        "# It is assumed that the borrower defaults only on interest\r\n",
        "# the calculations don't work out if we assume that the \r\n",
        "# borrower defaults on entire principle amount and interest\r\n",
        "\r\n",
        "#Profit per year\r\n",
        "revenue   = interest + membership_fee\r\n",
        "expenses  = cost_of_fund + loss + affi_fee\r\n",
        "profit    = revenue - expenses\r\n",
        "print(\"1. Profit generated if simple interest is used is(rounded off) = \" + str(int(profit)))\r\n",
        "print(\"2. If the avg_bill doubles, then loss will be(rounded) = \" + str(int(2*loss)))\r\n"
      ],
      "execution_count": null,
      "outputs": [
        {
          "output_type": "stream",
          "text": [
            "1. Profit generated if simple interest is used is(rounded off) = 198006\n",
            "2. If the avg_bill doubles, then loss will be(rounded) = 2041\n"
          ],
          "name": "stdout"
        }
      ]
    },
    {
      "cell_type": "markdown",
      "metadata": {
        "id": "CwibSyIeTLj6"
      },
      "source": [
        "![Fin_analysis_1.png](data:image/png;base64,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)"
      ]
    },
    {
      "cell_type": "markdown",
      "metadata": {
        "id": "Dl-fM4oTTUGH"
      },
      "source": [
        "Now we analyze what financial numbers can bank adjust to prevent the credit card company from buying customer\n",
        "\n",
        "\n",
        "## Description\n",
        "\n",
        "### For Bank:\n",
        "- 1 - Income is from the payment to purchase the customers\n",
        "- 2 - Operating cost is saved\n",
        "- 3 - Interest of 6.5% on the amount lent is lost\n",
        "\n",
        "Change in Profits\n",
        "- New Profit = 1\n",
        "- Old Profit = 3 + Aff_fee - 2\n",
        "- Delta Profit = New Profit - Old Profit = 1 + 2 - (3 + Aff)\n",
        "\n",
        "### For Credit Card Company:\n",
        "- 1 - Cost to purchase customer\n",
        "- 2 - Operating cost\n",
        "\n",
        "Change in profits\n",
        "- New expense = 1 + 2\n",
        "- Old expense = Interest + Aff_fee\n",
        "- Net bank profit in Old model= Interest + Aff_fee - operating cost\n",
        "- Delta Saving = Old - New = Interest + Aff_fee - 1 - 2\n",
        "\n",
        "The bank now can instead, have a new interest rate, such that the old expenses are brought down to be equal to new expenses incurred by credit card company in new model. We also need to check if the interest rate calculated in such manner still keeps \"Net bank profit in Old model\" positive. This calculated interest rate would be the maximum interest rate possible to prevent loss of credit card company as a client. The minimum will be when the bank puts it's own \"Net bank profit in Old model\" to be zero, making older expenses even lower for the credit card company as compared to the newer expenses.\n"
      ]
    },
    {
      "cell_type": "code",
      "metadata": {
        "colab": {
          "base_uri": "https://localhost:8080/"
        },
        "id": "1XxOQ6OEc9CL",
        "outputId": "8d61d6d6-76bc-472c-fbd1-080fcf2cf944"
      },
      "source": [
        "purchase_cost_per_customer = 20\n",
        "customer_purchase_cost     = purchase_cost_per_customer*total_cust\n",
        "operating_cost   = op_fee_per_head  * total_cust\n",
        "\n",
        "Net_profit_to_credit_card_co_new_model = interest + membership_fee - operating_cost - customer_purchase_cost\n",
        "print(\"4. New profit to credit card company(rounded) = \" + str(int(Net_profit_to_credit_card_co_new_model)))"
      ],
      "execution_count": null,
      "outputs": [
        {
          "output_type": "stream",
          "text": [
            "4. New profit to credit card company(rounded) = 229027\n"
          ],
          "name": "stdout"
        }
      ]
    },
    {
      "cell_type": "code",
      "metadata": {
        "id": "krRPxldNTGfB",
        "colab": {
          "base_uri": "https://localhost:8080/"
        },
        "outputId": "c0ee42a5-2fe3-4035-f784-d9ffb85b928d"
      },
      "source": [
        "# Bringing old expenses incurred by credit card company down to new expenses in changed model\n",
        "# require decrease in rate of interest charged\n",
        "rate_max = ((customer_purchase_cost + operating_cost) - (affi_fee))*100/(total_fund_taken_per_month)\n",
        "# 1/12 and 12 in multiplication have been implicitly cancelled\n",
        "print(\"5. Maximum rate that prevents loss of clientele for Bank = \" + str(rate_max) + \"%\")\n",
        "\n",
        "# Net profit to bank in old model at new rate_max\n",
        "net_profit = total_fund_taken_per_month*rate_max/100 + affi_fee - operating_cost\n",
        "print(\"   Net profit under adjusted interest rate = \" + str(net_profit))\n",
        "\n",
        "# minimum rate will the one under which bank keeps no profit\n",
        "rate_min = (operating_cost - affi_fee)*100/total_fund_taken_per_month\n",
        "print(\"   Minimum rate which lets bank make neither profit nor loss = \" + str(rate_min) + \"%\")"
      ],
      "execution_count": null,
      "outputs": [
        {
          "output_type": "stream",
          "text": [
            "5. Maximum rate that prevents loss of clientele for Bank = 3.5%\n",
            "   Net profit under adjusted interest rate = 20000.0\n",
            "   Minimum rate which lets bank make neither profit nor loss = 1.5%\n"
          ],
          "name": "stdout"
        }
      ]
    },
    {
      "cell_type": "markdown",
      "metadata": {
        "id": "Gr68I9jYfYsT"
      },
      "source": [
        "6. It's not clearly mentioned in question, but to be exact, the bank could be availing extra interest from credit card company in strictest sense for extra days the customer delays the payment. But that might be mitigated in some sense if company pays the bank from it's own reserve, saving itself from extraneous cost due to delay by customer. Thoguh ofcourse this is a lost opportunity, as that reserves might be used for investment somewhere else. That calculation has been omitted for simplicity "
      ]
    },
    {
      "cell_type": "markdown",
      "metadata": {
        "id": "RbHDagUzgBc4"
      },
      "source": [
        "7. Lets calculate the profit under old model, assuming no interest from customer, or that all customers pay on time "
      ]
    },
    {
      "cell_type": "code",
      "metadata": {
        "colab": {
          "base_uri": "https://localhost:8080/"
        },
        "id": "mfoQBd4hgP7G",
        "outputId": "87d36cc5-cef5-4539-9170-e62da5ab8620"
      },
      "source": [
        "Profit_no_interest = membership_fee - cost_of_fund - affi_fee\n",
        "print(\"7. Profit without interest from customers = \" + str(int(Profit_no_interest)))\n",
        "print(\"   Profit with interest = \" + str(int(profit)))\n",
        "print(\"   Additional benifit = \" + str(int(profit - Profit_no_interest)))\n",
        "print(\"One would clearly deduce that customers paying late helps\\n\\n\\n\")"
      ],
      "execution_count": null,
      "outputs": [
        {
          "output_type": "stream",
          "text": [
            "7. Profit without interest from customers = 212344\n",
            "   Profit with interest = 266513\n",
            "   Additional benifit = 54168\n",
            "One would clearly deduce that customers paying late helps\n",
            "\n",
            "\n",
            "\n"
          ],
          "name": "stdout"
        }
      ]
    },
    {
      "cell_type": "markdown",
      "metadata": {
        "id": "yk_Tku5yG2R-"
      },
      "source": [
        "# Compounded interest"
      ]
    },
    {
      "cell_type": "code",
      "metadata": {
        "colab": {
          "base_uri": "https://localhost:8080/"
        },
        "id": "oG00_N-4tu1i",
        "outputId": "81059a17-2e2c-4323-92c6-2bccc7fc75d8"
      },
      "source": [
        "def calculated_interest(list_eff_interest_rate, list_customer, list_avg_card_bill,\r\n",
        "                              cust0, cust30, cust45, cust60):\r\n",
        "  \r\n",
        "  # We assume that effectively customers borrow such that the interest generated\r\n",
        "  # is equivalent to what we calculate if they had borrowed whole amount on 15th \r\n",
        "  # of the month\r\n",
        "  average_day_of_borrow = 15\r\n",
        "  \r\n",
        "  # The customer is given grace period of 15 days to pay back credit amount taken\r\n",
        "  credit_free_period = 15\r\n",
        "\r\n",
        "  total_interest = 0\r\n",
        "  for month in range(12):\r\n",
        "    interest0 = 0\r\n",
        "    interest30 = (list_customer[month]*cust30 )* (list_avg_card_bill[month]*\r\n",
        "                                                list_eff_interest_rate[month]*\r\n",
        "                                                (average_day_of_borrow + credit_free_period + 30)/(12*30)\r\n",
        "                                                )\r\n",
        "    interest45 = (list_customer[month]*cust45 )* (list_avg_card_bill[month]*\r\n",
        "                                                list_eff_interest_rate[month]*\r\n",
        "                                                (average_day_of_borrow + credit_free_period + 45)/(12*30)\r\n",
        "                                                )\r\n",
        "    interest60 = (list_customer[month]*cust60 )* (list_avg_card_bill[month]*\r\n",
        "                                                list_eff_interest_rate[month]*\r\n",
        "                                                (average_day_of_borrow + credit_free_period + 60)/(12*30)\r\n",
        "                                                )\r\n",
        "    \r\n",
        "    total_interest_month = interest0 + interest30 + interest45 + interest60\r\n",
        "    total_interest = total_interest + total_interest_month\r\n",
        "    \r\n",
        "    \r\n",
        "  return total_interest\r\n",
        "\r\n",
        "\r\n",
        "def calculate_mem_fee(list_membership_fee, list_customer):\r\n",
        "  total_mem_fee = 0\r\n",
        "  for month in range(12):\r\n",
        "    total_mem_fee = total_mem_fee + list_membership_fee[month] * list_customer[month]\r\n",
        "\r\n",
        "  return total_mem_fee\r\n",
        "\r\n",
        "\r\n",
        "def calculate_fund_taken_from_bank(list_avg_card_bill, list_customer):\r\n",
        "  total_fund = 0\r\n",
        "  for month in range(12):\r\n",
        "    total_fund = total_fund + list_avg_card_bill[month] * list_customer[month]\r\n",
        "\r\n",
        "  return total_fund\r\n",
        "\r\n",
        "\r\n",
        "#Parameter Initilization\r\n",
        "total_cust = 1000\r\n",
        "\r\n",
        "#Distruibuation of customer\r\n",
        "#No delay = 90%\r\n",
        "#Paid after 30 days = 5%\r\n",
        "#Paid after 45 days = 4%\r\n",
        "#Paid after 60 days = 1%\r\n",
        "cust0  = 90/100\r\n",
        "cust30 =  5/100\r\n",
        "cust45 =  4/100\r\n",
        "cust60 =  1/100\r\n",
        "\r\n",
        "#Input parameters\r\n",
        "avg_card_bill            = 1000     # Average bill at end of month\r\n",
        "mem_fee_per_head         = 20       # Membership fee paid by customer\r\n",
        "op_fee_per_head          = 25       # Operational costs incurred by bank\r\n",
        "affi_fee_per_head        = 10       # Affiliation fee paid by credit card company\r\n",
        "interest_rate_to_bank    = 6.5/100  # Interest rate levied by bank from credit card co.\r\n",
        "rate                     =  15/100  # Interest rate paid by customer\r\n",
        "loss_rate                =   3/100  # Loss of principal and interest due to default by customer\r\n",
        "month_on_month_mem_fee   =   5/100  # Increase rate in membership fee \r\n",
        "month_on_month_card_bill =   5/100  # Increase rate in average card bill\r\n",
        "\r\n",
        "list_avg_card_bill  = [avg_card_bill]\r\n",
        "list_membership_fee = [mem_fee_per_head]\r\n",
        "list_customer       = [1000, 1000, 1000]\r\n",
        "list_eff_rate = [rate]\r\n",
        "\r\n",
        "\r\n",
        "for month in range(1,12):\r\n",
        "  list_avg_card_bill .append( list_avg_card_bill[month-1] * (1+month_on_month_card_bill))\r\n",
        "  list_membership_fee.append(list_membership_fee[month-1] * (1+month_on_month_mem_fee)  )\r\n",
        "\r\n",
        "for month in range(3, 12):\r\n",
        "  prev_month   = month-1\r\n",
        "  borrow_month = month-3\r\n",
        "  num_cust_to_be_removed = list_customer[borrow_month]*cust60\r\n",
        "  active_customer = list_customer[prev_month]\r\n",
        "  list_customer.append(active_customer - num_cust_to_be_removed)\r\n",
        "\r\n",
        "for month in range(1, 12):\r\n",
        "  group = int(month/(12/4)) # Interest grows each quarter\r\n",
        "  list_eff_rate.append( rate * pow((1+rate), group) )\r\n",
        "\r\n",
        "\r\n",
        "#Earnings\r\n",
        "interest        = calculated_interest(list_eff_rate, list_customer, list_avg_card_bill,\r\n",
        "                                      cust0, cust30, cust45, cust60)\r\n",
        "membership_fee  = calculate_mem_fee(list_membership_fee, list_customer)\r\n",
        "\r\n",
        "#Expenses\r\n",
        "total_fund_taken = calculate_fund_taken_from_bank(list_avg_card_bill, list_customer)\r\n",
        "cost_of_fund     = (total_fund_taken  * interest_rate_to_bank * 1/12)\r\n",
        "affi_fee         = affi_fee_per_head * total_cust\r\n",
        "loss             = (interest) * loss_rate\r\n",
        "\r\n",
        "#Profit per year\r\n",
        "revenue   = interest + membership_fee\r\n",
        "expenses  = cost_of_fund + loss + affi_fee\r\n",
        "profit    = revenue - expenses\r\n",
        "\r\n",
        "print(\"1. Profit generated if simple interest is used is(rounded off) = \" + str(int(profit)))\r\n",
        "print(\"2. If the avg_bill doubles, then loss will be(rounded) = \" + str(int(2*loss)))"
      ],
      "execution_count": null,
      "outputs": [
        {
          "output_type": "stream",
          "text": [
            "1. Profit generated if simple interest is used is(rounded off) = 266513\n",
            "2. If the avg_bill doubles, then loss will be(rounded) = 3350\n"
          ],
          "name": "stdout"
        }
      ]
    },
    {
      "cell_type": "code",
      "metadata": {
        "colab": {
          "base_uri": "https://localhost:8080/"
        },
        "id": "zYqWxIEyioO7",
        "outputId": "3cd0b596-d8ef-40bf-88f3-4765851173a9"
      },
      "source": [
        "purchase_cost_per_customer = 20\n",
        "customer_purchase_cost     = purchase_cost_per_customer*total_cust\n",
        "operating_cost   = op_fee_per_head  * total_cust\n",
        "\n",
        "Net_profit_to_credit_card_co_new_model = interest + membership_fee - operating_cost - customer_purchase_cost\n",
        "print(\"4. New profit to credit card company(rounded) = \" + str(int(Net_profit_to_credit_card_co_new_model)))"
      ],
      "execution_count": null,
      "outputs": [
        {
          "output_type": "stream",
          "text": [
            "4. New profit to credit card company(rounded) = 315773\n"
          ],
          "name": "stdout"
        }
      ]
    },
    {
      "cell_type": "code",
      "metadata": {
        "colab": {
          "base_uri": "https://localhost:8080/"
        },
        "id": "mBdnBEovi2Xc",
        "outputId": "43b53d75-1977-4b82-afbd-8c6538d1a859"
      },
      "source": [
        "# Bringing old expenses incurred by credit card company down to new expenses in changed model\n",
        "# require decrease in rate of interest charged\n",
        "rate_max = ((customer_purchase_cost + operating_cost) - (affi_fee))*100/(total_fund_taken/12)\n",
        "# 1/12 and 12 in multiplication have been implicitly cancelled\n",
        "print(\"5. Maximum rate that prevents loss of clientele for Bank = \" + (\"%0.2f\" %rate_max) + \"%\")\n",
        "\n",
        "# Net profit to bank in old model at new rate_max\n",
        "net_profit = (total_fund_taken * rate_max/100 * 1/12) + affi_fee - operating_cost\n",
        "print(\"   Net profit under adjusted interest rate = \" + str(net_profit))\n",
        "\n",
        "# minimum rate will the one under which bank keeps no profit\n",
        "rate_min = (operating_cost - affi_fee)*100/(total_fund_taken/12)\n",
        "print(\"   Minimum rate which lets bank make neither profit nor loss = \" + (\"%0.2f\" %rate_min) + \"%\")\n"
      ],
      "execution_count": null,
      "outputs": [
        {
          "output_type": "stream",
          "text": [
            "5. Maximum rate that prevents loss of clientele for Bank = 2.75%\n",
            "   Net profit under adjusted interest rate = 20000.0\n",
            "   Minimum rate which lets bank make neither profit nor loss = 1.18%\n"
          ],
          "name": "stdout"
        }
      ]
    },
    {
      "cell_type": "markdown",
      "metadata": {
        "id": "yWLCgaXuj5SA"
      },
      "source": [
        "6. It's not clearly mentioned in question, but to be exact, the bank could be availing extra interest from credit card company in strictest sense for extra days the customer delays the payment. But that might be mitigated in some sense if company pays the bank from it's own reserve, saving itself from extraneous cost due to delay by customer. Thoguh ofcourse this is a lost opportunity, as that reserves might be used for investment somewhere else. That calculation has been omitted for simplicity "
      ]
    },
    {
      "cell_type": "markdown",
      "metadata": {
        "id": "ftXmCRV8j7FJ"
      },
      "source": [
        "7. Lets calculate the profit under old model, assuming no interest from customer, or that all customers pay on time "
      ]
    },
    {
      "cell_type": "code",
      "metadata": {
        "colab": {
          "base_uri": "https://localhost:8080/"
        },
        "id": "nydDsxJHkCH2",
        "outputId": "ab2ed10b-5040-4019-8890-546d5809c11a"
      },
      "source": [
        "Profit_no_interest = membership_fee - cost_of_fund - affi_fee\n",
        "print(\"7. Profit without interest from customers = \" + str(int(Profit_no_interest)))\n",
        "print(\"   Profit with interest = \" + str(int(profit)))\n",
        "print(\"   Additional benifit = \" + str(int(profit - Profit_no_interest)))\n",
        "print(\"One would clearly deduce that customers paying late helps\\n\\n\\n\")"
      ],
      "execution_count": null,
      "outputs": [
        {
          "output_type": "stream",
          "text": [
            "7. Profit without interest from customers = 212344\n",
            "   Profit with interest = 266513\n",
            "   Additional benifit = 54168\n",
            "One would clearly deduce that customers paying late helps\n",
            "\n",
            "\n",
            "\n"
          ],
          "name": "stdout"
        }
      ]
    },
    {
      "cell_type": "markdown",
      "metadata": {
        "id": "tj87ncNgmE5X"
      },
      "source": [
        "## 3. Default rate \n",
        "\n",
        "1. https://economictimes.indiatimes.com/industry/banking/finance/banking/default-rate-in-small-loans-lowest-study/articleshow/67250315.cms?from=mdr\n",
        "\n",
        "\n",
        "2. https://www.insidearm.com/news/00044378-report-shows-profile-borrowers-who-are-li/#:~:text=Most%20defaults%20occur%20on%20lower,into%20the%20low%20balance%20category.\n",
        "\n",
        "The probability of who will default is soemthing that I don't have any internal opinion / knowledge / model on. But a quick google reveasls 2 contrasting reports, one says that default rate on small loans is lowest. Other says it's very high. So it strongly depends on geography, economy and profile of borrower. I'd instead like to understand this aspect over time."
      ]
    }
  ]
}